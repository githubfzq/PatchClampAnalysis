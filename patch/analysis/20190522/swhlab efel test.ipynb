{
 "cells": [
  {
   "cell_type": "code",
   "execution_count": 1,
   "metadata": {},
   "outputs": [],
   "source": [
    "import swhlab"
   ]
  },
  {
   "cell_type": "code",
   "execution_count": 7,
   "metadata": {},
   "outputs": [
    {
     "name": "stdout",
     "output_type": "stream",
     "text": [
      "/home/memory_fzq/Downloads/pyABF-2.1.6/data/abfs\n"
     ]
    }
   ],
   "source": [
    "%cd ~/Downloads/pyABF-2.1.6/data/abfs/"
   ]
  },
  {
   "cell_type": "code",
   "execution_count": 9,
   "metadata": {
    "collapsed": true
   },
   "outputs": [
    {
     "name": "stderr",
     "output_type": "stream",
     "text": [
      "05/22/2019 11:22:58 PM\tINFO\tSWHLab (0.1.159) loading ABF [171116sh_0020.abf]\n"
     ]
    },
    {
     "ename": "TypeError",
     "evalue": "read_block() got an unexpected keyword argument 'cascade'",
     "output_type": "error",
     "traceback": [
      "\u001b[0;31m---------------------------------------------------------------------------\u001b[0m",
      "\u001b[0;31mTypeError\u001b[0m                                 Traceback (most recent call last)",
      "\u001b[0;32m<ipython-input-9-678747f23588>\u001b[0m in \u001b[0;36m<module>\u001b[0;34m\u001b[0m\n\u001b[0;32m----> 1\u001b[0;31m \u001b[0mtest\u001b[0m \u001b[0;34m=\u001b[0m \u001b[0mswhlab\u001b[0m\u001b[0;34m.\u001b[0m\u001b[0mABF\u001b[0m\u001b[0;34m(\u001b[0m\u001b[0;34m'171116sh_0020.abf'\u001b[0m\u001b[0;34m)\u001b[0m\u001b[0;34m\u001b[0m\u001b[0;34m\u001b[0m\u001b[0m\n\u001b[0m",
      "\u001b[0;32m~/anaconda3/envs/clamp/lib/python3.7/site-packages/swhlab/core.py\u001b[0m in \u001b[0;36m__init__\u001b[0;34m(self, fname, createFolder)\u001b[0m\n\u001b[1;32m     83\u001b[0m         \u001b[0;31m# load the ABF and populate properties\u001b[0m\u001b[0;34m\u001b[0m\u001b[0;34m\u001b[0m\u001b[0;34m\u001b[0m\u001b[0m\n\u001b[1;32m     84\u001b[0m         \u001b[0mself\u001b[0m\u001b[0;34m.\u001b[0m\u001b[0mABFreader\u001b[0m \u001b[0;34m=\u001b[0m \u001b[0mio\u001b[0m\u001b[0;34m.\u001b[0m\u001b[0mAxonIO\u001b[0m\u001b[0;34m(\u001b[0m\u001b[0mfilename\u001b[0m\u001b[0;34m=\u001b[0m\u001b[0mfname\u001b[0m\u001b[0;34m)\u001b[0m\u001b[0;34m\u001b[0m\u001b[0;34m\u001b[0m\u001b[0m\n\u001b[0;32m---> 85\u001b[0;31m         \u001b[0mself\u001b[0m\u001b[0;34m.\u001b[0m\u001b[0mABFblock\u001b[0m \u001b[0;34m=\u001b[0m \u001b[0mself\u001b[0m\u001b[0;34m.\u001b[0m\u001b[0mABFreader\u001b[0m\u001b[0;34m.\u001b[0m\u001b[0mread_block\u001b[0m\u001b[0;34m(\u001b[0m\u001b[0mlazy\u001b[0m\u001b[0;34m=\u001b[0m\u001b[0;32mFalse\u001b[0m\u001b[0;34m,\u001b[0m \u001b[0mcascade\u001b[0m\u001b[0;34m=\u001b[0m\u001b[0;32mTrue\u001b[0m\u001b[0;34m)\u001b[0m\u001b[0;34m\u001b[0m\u001b[0;34m\u001b[0m\u001b[0m\n\u001b[0m\u001b[1;32m     86\u001b[0m         \u001b[0mself\u001b[0m\u001b[0;34m.\u001b[0m\u001b[0mheader\u001b[0m\u001b[0;34m=\u001b[0m\u001b[0mself\u001b[0m\u001b[0;34m.\u001b[0m\u001b[0mABFreader\u001b[0m\u001b[0;34m.\u001b[0m\u001b[0mread_header\u001b[0m\u001b[0;34m(\u001b[0m\u001b[0;34m)\u001b[0m\u001b[0;34m\u001b[0m\u001b[0;34m\u001b[0m\u001b[0m\n\u001b[1;32m     87\u001b[0m         \u001b[0mself\u001b[0m\u001b[0;34m.\u001b[0m\u001b[0mprotocomment\u001b[0m\u001b[0;34m=\u001b[0m\u001b[0mabfProtocol\u001b[0m\u001b[0;34m(\u001b[0m\u001b[0mfname\u001b[0m\u001b[0;34m)\u001b[0m \u001b[0;31m# get ABF file comment\u001b[0m\u001b[0;34m\u001b[0m\u001b[0;34m\u001b[0m\u001b[0m\n",
      "\u001b[0;31mTypeError\u001b[0m: read_block() got an unexpected keyword argument 'cascade'"
     ]
    }
   ],
   "source": [
    "test = swhlab.ABF('171116sh_0020.abf')"
   ]
  },
  {
   "cell_type": "code",
   "execution_count": 2,
   "metadata": {},
   "outputs": [],
   "source": [
    "import efel"
   ]
  },
  {
   "cell_type": "code",
   "execution_count": 3,
   "metadata": {
    "scrolled": true
   },
   "outputs": [
    {
     "data": {
      "text/plain": [
       "['AHP1_depth_from_peak',\n",
       " 'AHP2_depth_from_peak',\n",
       " 'AHP_depth',\n",
       " 'AHP_depth_abs',\n",
       " 'AHP_depth_abs_slow',\n",
       " 'AHP_depth_diff',\n",
       " 'AHP_depth_from_peak',\n",
       " 'AHP_slow_time',\n",
       " 'AHP_time_from_peak',\n",
       " 'AP1_amp',\n",
       " 'AP1_begin_voltage',\n",
       " 'AP1_begin_width',\n",
       " 'AP1_peak',\n",
       " 'AP1_width',\n",
       " 'AP2_AP1_begin_width_diff',\n",
       " 'AP2_AP1_diff',\n",
       " 'AP2_AP1_peak_diff',\n",
       " 'AP2_amp',\n",
       " 'AP2_begin_voltage',\n",
       " 'AP2_begin_width',\n",
       " 'AP2_peak',\n",
       " 'AP2_width',\n",
       " 'AP_amplitude',\n",
       " 'AP_amplitude_change',\n",
       " 'AP_amplitude_diff',\n",
       " 'AP_amplitude_from_voltagebase',\n",
       " 'AP_begin_indices',\n",
       " 'AP_begin_time',\n",
       " 'AP_begin_voltage',\n",
       " 'AP_begin_width',\n",
       " 'AP_duration',\n",
       " 'AP_duration_change',\n",
       " 'AP_duration_half_width',\n",
       " 'AP_duration_half_width_change',\n",
       " 'AP_end_indices',\n",
       " 'AP_fall_indices',\n",
       " 'AP_fall_rate',\n",
       " 'AP_fall_rate_change',\n",
       " 'AP_fall_time',\n",
       " 'AP_height',\n",
       " 'AP_phaseslope',\n",
       " 'AP_phaseslope_AIS',\n",
       " 'AP_rise_indices',\n",
       " 'AP_rise_rate',\n",
       " 'AP_rise_rate_change',\n",
       " 'AP_rise_time',\n",
       " 'AP_width',\n",
       " 'APlast_amp',\n",
       " 'APlast_width',\n",
       " 'BAC_maximum_voltage',\n",
       " 'BAC_width',\n",
       " 'BPAPAmplitudeLoc1',\n",
       " 'BPAPAmplitudeLoc2',\n",
       " 'BPAPHeightLoc1',\n",
       " 'BPAPHeightLoc2',\n",
       " 'BPAPatt2',\n",
       " 'BPAPatt3',\n",
       " 'E10',\n",
       " 'E11',\n",
       " 'E12',\n",
       " 'E13',\n",
       " 'E14',\n",
       " 'E15',\n",
       " 'E16',\n",
       " 'E17',\n",
       " 'E18',\n",
       " 'E19',\n",
       " 'E2',\n",
       " 'E20',\n",
       " 'E21',\n",
       " 'E22',\n",
       " 'E23',\n",
       " 'E24',\n",
       " 'E25',\n",
       " 'E26',\n",
       " 'E27',\n",
       " 'E3',\n",
       " 'E39',\n",
       " 'E39_cod',\n",
       " 'E4',\n",
       " 'E40',\n",
       " 'E5',\n",
       " 'E6',\n",
       " 'E7',\n",
       " 'E8',\n",
       " 'E9',\n",
       " 'ISI_CV',\n",
       " 'ISI_log_slope',\n",
       " 'ISI_log_slope_skip',\n",
       " 'ISI_semilog_slope',\n",
       " 'ISI_values',\n",
       " 'Spikecount',\n",
       " 'Spikecount_stimint',\n",
       " 'adaptation_index',\n",
       " 'adaptation_index2',\n",
       " 'all_ISI_values',\n",
       " 'amp_drop_first_last',\n",
       " 'amp_drop_first_second',\n",
       " 'amp_drop_second_last',\n",
       " 'burst_ISI_indices',\n",
       " 'burst_mean_freq',\n",
       " 'burst_number',\n",
       " 'check_AISInitiation',\n",
       " 'decay_time_constant_after_stim',\n",
       " 'depolarized_base',\n",
       " 'doublet_ISI',\n",
       " 'fast_AHP',\n",
       " 'fast_AHP_change',\n",
       " 'interburst_voltage',\n",
       " 'inv_fifth_ISI',\n",
       " 'inv_first_ISI',\n",
       " 'inv_fourth_ISI',\n",
       " 'inv_last_ISI',\n",
       " 'inv_second_ISI',\n",
       " 'inv_third_ISI',\n",
       " 'inv_time_to_first_spike',\n",
       " 'irregularity_index',\n",
       " 'is_not_stuck',\n",
       " 'max_amp_difference',\n",
       " 'maximum_voltage',\n",
       " 'maximum_voltage_from_voltagebase',\n",
       " 'mean_AP_amplitude',\n",
       " 'mean_frequency',\n",
       " 'min_AHP_indices',\n",
       " 'min_AHP_values',\n",
       " 'min_voltage_between_spikes',\n",
       " 'minimum_voltage',\n",
       " 'number_initial_spikes',\n",
       " 'ohmic_input_resistance',\n",
       " 'ohmic_input_resistance_vb_ssse',\n",
       " 'peak_indices',\n",
       " 'peak_time',\n",
       " 'peak_voltage',\n",
       " 'sag_amplitude',\n",
       " 'sag_ratio1',\n",
       " 'sag_ratio2',\n",
       " 'single_burst_ratio',\n",
       " 'spike_half_width',\n",
       " 'spike_width2',\n",
       " 'steady_state_hyper',\n",
       " 'steady_state_voltage',\n",
       " 'steady_state_voltage_stimend',\n",
       " 'time',\n",
       " 'time_constant',\n",
       " 'time_to_first_spike',\n",
       " 'time_to_last_spike',\n",
       " 'time_to_second_spike',\n",
       " 'trace_check',\n",
       " 'voltage',\n",
       " 'voltage_after_stim',\n",
       " 'voltage_base',\n",
       " 'voltage_deflection',\n",
       " 'voltage_deflection_begin',\n",
       " 'voltage_deflection_vb_ssse',\n",
       " 'voltage',\n",
       " 'time',\n",
       " 'ISIs',\n",
       " 'initburst_sahp',\n",
       " 'initburst_sahp_vb',\n",
       " 'initburst_sahp_ssse',\n",
       " 'depol_block']"
      ]
     },
     "execution_count": 3,
     "metadata": {},
     "output_type": "execute_result"
    }
   ],
   "source": [
    "efel.getFeatureNames()"
   ]
  },
  {
   "cell_type": "code",
   "execution_count": 17,
   "metadata": {},
   "outputs": [
    {
     "name": "stdout",
     "output_type": "stream",
     "text": [
      "ABF (version 2.0.0.0) with 2 channels (mV, mV), sampled at 10.0 kHz, containing 3 sweeps, having no tags, with a total length of 4.00 minutes, recorded with protocol \"X:\\Protocols\\Scott\\SWHlab\\paired\\pair-loose-60\".\n"
     ]
    }
   ],
   "source": [
    "import pyabf\n",
    "abf = pyabf.ABF('14o08011_ic_pair.abf')\n",
    "print(abf)"
   ]
  },
  {
   "cell_type": "code",
   "execution_count": 18,
   "metadata": {},
   "outputs": [
    {
     "data": {
      "text/plain": [
       "array([ 0.    ,  0.0001,  0.0002, ..., 59.9997, 59.9998, 59.9999])"
      ]
     },
     "execution_count": 18,
     "metadata": {},
     "output_type": "execute_result"
    }
   ],
   "source": [
    "abf.sweepX"
   ]
  },
  {
   "cell_type": "code",
   "execution_count": 20,
   "metadata": {},
   "outputs": [
    {
     "data": {
      "text/plain": [
       "'/home/memory_fzq/Downloads/pyABF-2.1.6/data/abfs'"
      ]
     },
     "execution_count": 20,
     "metadata": {},
     "output_type": "execute_result"
    }
   ],
   "source": [
    "%pwd"
   ]
  },
  {
   "cell_type": "code",
   "execution_count": 4,
   "metadata": {},
   "outputs": [
    {
     "name": "stdout",
     "output_type": "stream",
     "text": [
      "/home/memory_fzq/Downloads/eFEL/examples/basic\n"
     ]
    }
   ],
   "source": [
    "%cd ~/Downloads/eFEL/examples/basic/"
   ]
  },
  {
   "cell_type": "code",
   "execution_count": 5,
   "metadata": {},
   "outputs": [],
   "source": [
    "import numpy"
   ]
  },
  {
   "cell_type": "code",
   "execution_count": 6,
   "metadata": {},
   "outputs": [
    {
     "data": {
      "text/plain": [
       "array([[ 0.00000000e+00, -7.56837997e+01],\n",
       "       [ 2.50000012e-01, -7.56213074e+01],\n",
       "       [ 5.00000024e-01, -7.56213074e+01],\n",
       "       ...,\n",
       "       [ 2.99925017e+03, -7.83711777e+01],\n",
       "       [ 2.99950004e+03, -7.84649200e+01],\n",
       "       [ 2.99975014e+03, -7.83086777e+01]])"
      ]
     },
     "execution_count": 6,
     "metadata": {},
     "output_type": "execute_result"
    }
   ],
   "source": [
    "data = numpy.loadtxt('example_trace1.txt')\n",
    "data"
   ]
  },
  {
   "cell_type": "code",
   "execution_count": 7,
   "metadata": {},
   "outputs": [
    {
     "data": {
      "text/plain": [
       "array([0.00000000e+00, 2.50000012e-01, 5.00000024e-01, ...,\n",
       "       2.99925017e+03, 2.99950004e+03, 2.99975014e+03])"
      ]
     },
     "execution_count": 7,
     "metadata": {},
     "output_type": "execute_result"
    }
   ],
   "source": [
    "time = data[:,0]\n",
    "time"
   ]
  },
  {
   "cell_type": "code",
   "execution_count": 8,
   "metadata": {},
   "outputs": [],
   "source": [
    "voltage = data[:,1]"
   ]
  },
  {
   "cell_type": "code",
   "execution_count": 9,
   "metadata": {},
   "outputs": [],
   "source": [
    "trace1={}"
   ]
  },
  {
   "cell_type": "code",
   "execution_count": 10,
   "metadata": {},
   "outputs": [],
   "source": [
    "trace1['T'] = time\n",
    "trace1['V'] = voltage\n",
    "trace1['stim_start'] = [700]\n",
    "trace1['stim_end'] = [2700]\n",
    "traces = [trace1]"
   ]
  },
  {
   "cell_type": "code",
   "execution_count": 11,
   "metadata": {},
   "outputs": [
    {
     "data": {
      "text/plain": [
       "[{'AP_amplitude': array([72.57824413, 46.36725526, 41.15466792, 39.7631751 , 36.1614653 ,\n",
       "         37.84892957]), 'voltage_base': array([-74.71283577])}]"
      ]
     },
     "execution_count": 11,
     "metadata": {},
     "output_type": "execute_result"
    }
   ],
   "source": [
    "traces_results = efel.getFeatureValues(traces,['AP_amplitude', 'voltage_base'])\n",
    "traces_results"
   ]
  },
  {
   "cell_type": "code",
   "execution_count": 12,
   "metadata": {},
   "outputs": [],
   "source": [
    "import matplotlib.pyplot as plt"
   ]
  },
  {
   "cell_type": "code",
   "execution_count": 13,
   "metadata": {},
   "outputs": [
    {
     "data": {
      "text/plain": [
       "[<matplotlib.lines.Line2D at 0x7f8819140b38>]"
      ]
     },
     "execution_count": 13,
     "metadata": {},
     "output_type": "execute_result"
    },
    {
     "data": {
      "image/png": "[encoded data removed]",
      "text/plain": [
       "<Figure size 432x288 with 1 Axes>"
      ]
     },
     "metadata": {
      "needs_background": "light"
     },
     "output_type": "display_data"
    }
   ],
   "source": [
    "plt.plot(time,voltage)"
   ]
  },
  {
   "cell_type": "code",
   "execution_count": 16,
   "metadata": {},
   "outputs": [
    {
     "data": {
      "text/plain": [
       "[{'AP_rise_time': array([1.2, 1.5, 1.7, 1.7, 1.8, 1.8]),\n",
       "  'AP_fall_time': array([2.1, 0.1, 0.1, 0.1, 0.1, 0.1])}]"
      ]
     },
     "execution_count": 16,
     "metadata": {},
     "output_type": "execute_result"
    }
   ],
   "source": [
    "res2 = efel.getFeatureValues(traces, ['AP_rise_time', 'AP_fall_time'])\n",
    "res2"
   ]
  },
  {
   "cell_type": "code",
   "execution_count": 17,
   "metadata": {},
   "outputs": [
    {
     "data": {
      "text/plain": [
       "[{'AP_begin_indices': array([ 7068,  9098, 14043, 17103, 23857, 26360]),\n",
       "  'AP_rise_indices': array([ 7074,  9104, 14049, 17109, 23862, 26366]),\n",
       "  'AP_fall_indices': array([ 7090,  9113, 14060, 17120, 23875, 26378])}]"
      ]
     },
     "execution_count": 17,
     "metadata": {},
     "output_type": "execute_result"
    }
   ],
   "source": [
    "efel.getFeatureValues(traces, ['AP_begin_indices', 'AP_rise_indices', 'AP_fall_indices'])"
   ]
  },
  {
   "cell_type": "code",
   "execution_count": 18,
   "metadata": {},
   "outputs": [
    {
     "data": {
      "text/plain": [
       "<efel.settings.Settings at 0x7f881900e0f0>"
      ]
     },
     "execution_count": 18,
     "metadata": {},
     "output_type": "execute_result"
    }
   ],
   "source": [
    "setting = efel.Settings()\n",
    "setting"
   ]
  }
 ],
 "metadata": {
  "kernelspec": {
   "display_name": "Python 3",
   "language": "python",
   "name": "python3"
  },
  "language_info": {
   "codemirror_mode": {
    "name": "ipython",
    "version": 3
   },
   "file_extension": ".py",
   "mimetype": "text/x-python",
   "name": "python",
   "nbconvert_exporter": "python",
   "pygments_lexer": "ipython3",
   "version": "3.7.3"
  }
 },
 "nbformat": 4,
 "nbformat_minor": 2
}
