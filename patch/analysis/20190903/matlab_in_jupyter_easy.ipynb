{
 "cells": [
  {
   "cell_type": "code",
   "execution_count": 1,
   "metadata": {},
   "outputs": [],
   "source": [
    "import metakernel"
   ]
  },
  {
   "cell_type": "code",
   "execution_count": 2,
   "metadata": {},
   "outputs": [],
   "source": [
    "metakernel.register_ipython_magics()"
   ]
  },
  {
   "cell_type": "code",
   "execution_count": 3,
   "metadata": {},
   "outputs": [],
   "source": [
    "%kernel matlab_kernel.kernel MatlabKernel"
   ]
  },
  {
   "cell_type": "code",
   "execution_count": 4,
   "metadata": {},
   "outputs": [
    {
     "data": {
      "text/plain": [
       "\n",
       "ans =\n",
       "\n",
       "     1     4     9\n",
       "    16    49    64\n",
       "\n"
      ]
     },
     "metadata": {},
     "output_type": "display_data"
    }
   ],
   "source": [
    "%%kx\n",
    "a=[1 2 3;4 7 8];\n",
    "a.^2"
   ]
  },
  {
   "cell_type": "code",
   "execution_count": 6,
   "metadata": {},
   "outputs": [
    {
     "data": {
      "text/plain": [
       " PLOT   Linear plot. \n",
       "    PLOT(X,Y) plots vector Y versus vector X. If X or Y is a matrix,\n",
       "    then the vector is plotted versus the rows or columns of the matrix,\n",
       "    whichever line up.  If X is a scalar and Y is a vector, disconnected\n",
       "    line objects are created and plotted as discrete points vertically at\n",
       "    X.\n",
       " \n",
       "    PLOT(Y) plots the columns of Y versus their index.\n",
       "    If Y is complex, PLOT(Y) is equivalent to PLOT(real(Y),imag(Y)).\n",
       "    In all other uses of PLOT, the imaginary part is ignored.\n",
       " \n",
       "    Various line types, plot symbols and colors may be obtained with\n",
       "    PLOT(X,Y,S) where S is a character string made from one element\n",
       "    from any or all the following 3 columns:\n",
       " \n",
       "           b     blue          .     point              -     solid\n",
       "           g     green         o     circle             :     dotted\n",
       "           r     red           x     x-mark             -.    dashdot \n",
       "           c     cyan          +     plus               --    dashed   \n",
       "           m     magenta       *     star           "
      ]
     },
     "metadata": {},
     "output_type": "display_data"
    },
    {
     "data": {
      "text/plain": [
       "  (none)  no line\n",
       "           y     yellow        s     square\n",
       "           k     black         d     diamond\n",
       "           w     white         v     triangle (down)\n",
       "                               ^     triangle (up)\n",
       "                               <     triangle (left)\n",
       "                               >     triangle (right)\n",
       "                               p     pentagram\n",
       "                               h     hexagram\n",
       "                          \n",
       "    For example, PLOT(X,Y,'c+:') plots a cyan dotted line with a plus \n",
       "    at each data point; PLOT(X,Y,'bd') plots blue diamond at each data \n",
       "    point but does not draw any line.\n",
       " \n",
       "    PLOT(X1,Y1,S1,X2,Y2,S2,X3,Y3,S3,...) combines the plots defined by\n",
       "    the (X,Y,S) triples, where the X's and Y's are vectors or matrices \n",
       "    and the S's are strings.  \n",
       " \n",
       "    For example, PLOT(X,Y,'y-',X,Y,'go') plots the data twice, with a\n",
       "    solid yellow line interpolating green circles at the data points.\n",
       " \n",
       "    The PLOT command, if no color is specified, makes automatic use of\n",
       "    the colors"
      ]
     },
     "metadata": {},
     "output_type": "display_data"
    },
    {
     "data": {
      "text/plain": [
       " specified by the axes ColorOrder property.  By default,\n",
       "    PLOT cycles through the colors in the ColorOrder property.  For\n",
       "    monochrome systems, PLOT cycles over the axes LineStyleOrder property.\n",
       " \n",
       "    Note that RGB colors in the ColorOrder property may differ from\n",
       "    similarly-named colors in the (X,Y,S) triples.  For example, the \n",
       "    second axes ColorOrder property is medium green with RGB [0 .5 0],\n",
       "    while PLOT(X,Y,'g') plots a green line with RGB [0 1 0].\n",
       " \n",
       "    If you do not specify a marker type, PLOT uses no marker. \n",
       "    If you do not specify a line style, PLOT uses a solid line.\n",
       " \n",
       "    PLOT(AX,...) plots into the axes with handle AX.\n",
       " \n",
       "    PLOT returns a column vector of handles to lineseries objects, one\n",
       "    handle per plotted line. \n",
       " \n",
       "    The X,Y pairs, or X,Y,S triples, can be followed by \n",
       "    parameter/value pairs to specify additional properties \n",
       "    of the lines. For example, PLOT(X,Y,'LineWidth',2,'Color',[.6 0 0]) \n",
       "    will create a plot with a dark red line width of 2 points.\n",
       " \n",
       "    Exam"
      ]
     },
     "metadata": {},
     "output_type": "display_data"
    },
    {
     "data": {
      "text/plain": [
       "ple\n",
       "       x = -pi:pi/10:pi;\n",
       "       y = tan(sin(x)) - sin(tan(x));\n",
       "       plot(x,y,'--rs','LineWidth',2,...\n",
       "                       'MarkerEdgeColor','k',...\n",
       "                       'MarkerFaceColor','g',...\n",
       "                       'MarkerSize',10)\n",
       " \n",
       "    See also PLOTTOOLS, SEMILOGX, SEMILOGY, LOGLOG, PLOTYY, PLOT3, GRID,\n",
       "    TITLE, XLABEL, YLABEL, AXIS, AXES, HOLD, LEGEND, SUBPLOT, SCATTER.\n",
       "\n",
       "    Reference page in Doc Center\n",
       "       doc plot\n",
       "\n",
       "    Other functions named plot\n",
       "\n",
       "       alphaShape/plot    LinearModel/plot    tall/plot\n",
       "       digraph/plot       polyshape/plot      timeseries/plot\n",
       "       graph/plot\n",
       "\n"
      ]
     },
     "metadata": {},
     "output_type": "display_data"
    }
   ],
   "source": [
    "%%kx\n",
    "help plot"
   ]
  },
  {
   "cell_type": "code",
   "execution_count": null,
   "metadata": {},
   "outputs": [],
   "source": []
  }
 ],
 "metadata": {
  "kernelspec": {
   "display_name": "Python 3",
   "language": "python",
   "name": "python3"
  },
  "language_info": {
   "codemirror_mode": {
    "name": "ipython",
    "version": 3
   },
   "file_extension": ".py",
   "mimetype": "text/x-python",
   "name": "python",
   "nbconvert_exporter": "python",
   "pygments_lexer": "ipython3",
   "version": "3.7.3"
  }
 },
 "nbformat": 4,
 "nbformat_minor": 2
}
